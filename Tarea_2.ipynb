{
  "nbformat": 4,
  "nbformat_minor": 0,
  "metadata": {
    "colab": {
      "name": "Tarea 2.ipynb",
      "provenance": [],
      "collapsed_sections": []
    },
    "kernelspec": {
      "name": "python3",
      "display_name": "Python 3"
    },
    "language_info": {
      "name": "python"
    }
  },
  "cells": [
    {
      "cell_type": "markdown",
      "source": [
        "# Punto 1\n",
        " a **$$y_{1}=log(x)$$**\n",
        "\n",
        " b **$$y_{2}=log(\\sqrt{x})$$**\n",
        "\n",
        " c **$$y_{3}=log(\\sqrt{x^{2}-1})$$**\n",
        "\n",
        " d **$$y_{4}=\\frac{log(\\sqrt{x-1})}{x^{2}+1}$$**\n",
        "\n",
        " e **$$y_{5}=\\frac{x-1}{log(x)}$$**\n",
        "\n",
        " f **$$y_{6}=\\frac{1}{x}+\\sqrt{x-1}$$**\n",
        "\n",
        " g **$$y_{7}=\\frac{1}{x}+\\sqrt{x-1}-\\frac{1}{log\\frac{1}{x+1}}$$**\n",
        "\n",
        " h **$$y_{8}=\\frac{2}{x^{2}+1}$$**\n",
        "\n",
        " i **$$y_{9}=\\frac{1}{n} \\sum_{i=1}^{n}x_{i}$$**\n",
        "\n",
        " j **$$y_{10}=\\frac{1}{n-1}\\sum_{i=1}^{n} (x_{i}-\\overline{x})^{2}$$**\n",
        "\n",
        " k **$$y_{11}=\\frac{\\sqrt{y_{10}}}{y_{9}} $$**\n"
      ],
      "metadata": {
        "id": "vLMcqL4lA7fQ"
      }
    },
    {
      "cell_type": "markdown",
      "source": [
        "# y1"
      ],
      "metadata": {
        "id": "0-CoXxOWa_XB"
      }
    },
    {
      "cell_type": "markdown",
      "source": [
        "# Solución punto 1\n"
      ],
      "metadata": {
        "id": "Gpfy0tawGx0C"
      }
    },
    {
      "cell_type": "code",
      "source": [
        "from math import log\n",
        "from math import sqrt\n",
        "import numpy as np"
      ],
      "metadata": {
        "id": "GPY9gxH7SDtL"
      },
      "execution_count": 1,
      "outputs": []
    },
    {
      "cell_type": "code",
      "source": [
        "#a\n",
        "while True:\n",
        "  try:\n",
        "    x = float(input(\"\\nCALCULADORA DE LOGARITMOS \\ningrese numero: \"))\n",
        "    try: \n",
        "      print(\"Resultado: \", log(x,10))\n",
        "      break\n",
        "    except ValueError:\n",
        "      print(\"Solo se admiten valores positivos\")\n",
        "  except ValueError:\n",
        "    print(\"Por favor ingrese un numero\")"
      ],
      "metadata": {
        "colab": {
          "base_uri": "https://localhost:8080/"
        },
        "id": "R23OzUtmnXww",
        "outputId": "0e8b2989-5b10-4162-b04a-a6633ae8a164"
      },
      "execution_count": 2,
      "outputs": [
        {
          "output_type": "stream",
          "name": "stdout",
          "text": [
            "\n",
            "CALCULADORA DE LOGARITMOS \n",
            "ingrese numero: .5\n",
            "Resultado:  -0.30102999566398114\n"
          ]
        }
      ]
    },
    {
      "cell_type": "code",
      "source": [
        "#b\n",
        "while True:\n",
        "  try:\n",
        "    x = float(input(\"\\nCALCULADORA DE LOG(SQRT(X),10) \\ningrese numero: \"))\n",
        "    try: \n",
        "      print(\"Resultado: \", log(sqrt(x),10))\n",
        "      break\n",
        "    except ValueError:\n",
        "      print(\"Solo se admiten valores positivos\")\n",
        "  except ValueError:\n",
        "    print(\"Por favor ingrese un numero\")"
      ],
      "metadata": {
        "colab": {
          "base_uri": "https://localhost:8080/"
        },
        "id": "PixkBMiinaEr",
        "outputId": "3b29cb5c-fa7f-4b4f-bcdc-019355beacb4"
      },
      "execution_count": 3,
      "outputs": [
        {
          "output_type": "stream",
          "name": "stdout",
          "text": [
            "\n",
            "CALCULADORA DE LOG(SQRT(X),10) \n",
            "ingrese numero: .2\n",
            "Resultado:  -0.3494850021680094\n"
          ]
        }
      ]
    },
    {
      "cell_type": "code",
      "source": [
        "#C\n",
        "while True:\n",
        "  try:\n",
        "    x = float(input(\"\\nCALCULADORA DE log(((x^2)-1),10)) \\ningrese numero: \"))\n",
        "    try:\n",
        "      print(\"Resultado: \", log(((x**2)-1),10))\n",
        "      break\n",
        "    except ValueError:\n",
        "        print(\"Valores entre 1 y -1 dan valores negativos en (x^2)-1\")\n",
        "  except ValueError:\n",
        "    print(\"Por favor ingrese un numero\")"
      ],
      "metadata": {
        "colab": {
          "base_uri": "https://localhost:8080/"
        },
        "id": "3SYEdVNRncnj",
        "outputId": "e948f403-f2ac-481b-c92d-c6f31d26e94e"
      },
      "execution_count": 4,
      "outputs": [
        {
          "output_type": "stream",
          "name": "stdout",
          "text": [
            "\n",
            "CALCULADORA DE log(((x^2)-1),10)) \n",
            "ingrese numero: .2\n",
            "Valores entre 1 y -1 dan valores negativos en (x^2)-1\n",
            "\n",
            "CALCULADORA DE log(((x^2)-1),10)) \n",
            "ingrese numero: 3\n",
            "Resultado:  0.9030899869919434\n"
          ]
        }
      ]
    },
    {
      "cell_type": "code",
      "source": [
        "#d\n",
        "while True:\n",
        "  try:\n",
        "    x = float(input(\"\\nCALCULADORA DE y4 \\ningrese numero: \"))\n",
        "    try:\n",
        "      a = log(sqrt(x-1),10)\n",
        "      print(\"Resultado: \", a/((x**2)+1))\n",
        "      break\n",
        "    except ValueError:\n",
        "        print(\"Valores menores a 1 dan valores negativos en (x-1)\")\n",
        "  except ValueError:\n",
        "    print(\"Por favor ingrese un numero\")"
      ],
      "metadata": {
        "colab": {
          "base_uri": "https://localhost:8080/"
        },
        "id": "DIRnLH9mnetq",
        "outputId": "2987d0a4-327d-4ca2-ca97-62b897a3e8f3"
      },
      "execution_count": 5,
      "outputs": [
        {
          "output_type": "stream",
          "name": "stdout",
          "text": [
            "\n",
            "CALCULADORA DE y4 \n",
            "ingrese numero: a\n",
            "Por favor ingrese un numero\n",
            "\n",
            "CALCULADORA DE y4 \n",
            "ingrese numero: -2\n",
            "Valores menores a 1 dan valores negativos en (x-1)\n",
            "\n",
            "CALCULADORA DE y4 \n",
            "ingrese numero: .5\n",
            "Valores menores a 1 dan valores negativos en (x-1)\n",
            "\n",
            "CALCULADORA DE y4 \n",
            "ingrese numero: 3\n",
            "Resultado:  0.01505149978319906\n"
          ]
        }
      ]
    },
    {
      "cell_type": "code",
      "source": [
        "#e\n",
        "while True:\n",
        "  try:\n",
        "    x = float(input(\"\\nCALCULADORA DE y5 \\ningrese numero: \"))\n",
        "    try:\n",
        "      print(\"Resultado: \", (x-1)/log(x,10))\n",
        "      break\n",
        "    except ValueError:\n",
        "        print(\"no se admiten valores negativos\")\n",
        "  except ValueError:\n",
        "    print(\"Por favor ingrese un numero\")"
      ],
      "metadata": {
        "colab": {
          "base_uri": "https://localhost:8080/"
        },
        "id": "A3uLEqezngmv",
        "outputId": "fe3d60a7-79d5-4522-ad4d-ffcd86c63dc5"
      },
      "execution_count": 6,
      "outputs": [
        {
          "output_type": "stream",
          "name": "stdout",
          "text": [
            "\n",
            "CALCULADORA DE y5 \n",
            "ingrese numero: -2\n",
            "no se admiten valores negativos\n",
            "\n",
            "CALCULADORA DE y5 \n",
            "ingrese numero: 4\n",
            "Resultado:  4.982892142331044\n"
          ]
        }
      ]
    },
    {
      "cell_type": "code",
      "source": [
        "#f\n",
        "while True:\n",
        "  try:\n",
        "    x = float(input(\"\\nCALCULADORA DE y6 \\ningrese numero: \"))\n",
        "    try:\n",
        "      a = sqrt(x-1)\n",
        "      print(\"Resultado: \", a+(1/x))\n",
        "      break\n",
        "    except ValueError:\n",
        "        print(\"Valores menores a 1 dan valores negativos en (x-1)\")\n",
        "  except ValueError:\n",
        "    print(\"Por favor ingrese un numero\")"
      ],
      "metadata": {
        "colab": {
          "base_uri": "https://localhost:8080/"
        },
        "id": "fqUbz8tcnjRN",
        "outputId": "fc8dfaf7-9596-4808-8331-29c9c4c6df54"
      },
      "execution_count": 7,
      "outputs": [
        {
          "output_type": "stream",
          "name": "stdout",
          "text": [
            "\n",
            "CALCULADORA DE y6 \n",
            "ingrese numero: .5\n",
            "Valores menores a 1 dan valores negativos en (x-1)\n",
            "\n",
            "CALCULADORA DE y6 \n",
            "ingrese numero: 3\n",
            "Resultado:  1.7475468957064284\n"
          ]
        }
      ]
    },
    {
      "cell_type": "code",
      "source": [
        "#g\n",
        "while True:\n",
        "  try:\n",
        "    x = float(input(\"\\nCALCULADORA DE y7 \\ningrese numero: \"))\n",
        "    try:\n",
        "      a = sqrt(x-1)\n",
        "      print(\"Resultado: \", a+(1/x)-(1/log(1/(x+1))))\n",
        "      break\n",
        "    except ValueError:\n",
        "        print(\"Valores menores a 1 dan valores negativos en (x-1)\")\n",
        "  except ValueError:\n",
        "    print(\"Por favor ingrese un numero\")"
      ],
      "metadata": {
        "colab": {
          "base_uri": "https://localhost:8080/"
        },
        "id": "z6ew1Q_YnlbK",
        "outputId": "a6919135-0113-4891-8eb0-7ee8b2febfdf"
      },
      "execution_count": 8,
      "outputs": [
        {
          "output_type": "stream",
          "name": "stdout",
          "text": [
            "\n",
            "CALCULADORA DE y7 \n",
            "ingrese numero: a\n",
            "Por favor ingrese un numero\n",
            "\n",
            "CALCULADORA DE y7 \n",
            "ingrese numero: -2\n",
            "Valores menores a 1 dan valores negativos en (x-1)\n",
            "\n",
            "CALCULADORA DE y7 \n",
            "ingrese numero: .5\n",
            "Valores menores a 1 dan valores negativos en (x-1)\n",
            "\n",
            "CALCULADORA DE y7 \n",
            "ingrese numero: 4\n",
            "Resultado:  2.603385742128489\n"
          ]
        }
      ]
    },
    {
      "cell_type": "code",
      "source": [
        "#h\n",
        "while True:\n",
        "  try:\n",
        "    x = float(input(\"\\nCALCULADORA DE y8 \\ningrese numero: \"))\n",
        "    print(\"Resultado: \", 2/((x**2)+1))\n",
        "    break\n",
        "  except ValueError:\n",
        "    print(\"Por favor ingrese un numero\")"
      ],
      "metadata": {
        "colab": {
          "base_uri": "https://localhost:8080/"
        },
        "id": "ptI9Or36nnSG",
        "outputId": "6616779a-bed7-4657-edd9-70ddc0cbfe2d"
      },
      "execution_count": 9,
      "outputs": [
        {
          "output_type": "stream",
          "name": "stdout",
          "text": [
            "\n",
            "CALCULADORA DE y8 \n",
            "ingrese numero: -.2\n",
            "Resultado:  1.923076923076923\n"
          ]
        }
      ]
    },
    {
      "cell_type": "code",
      "source": [
        "#i\n",
        "lista = [1,3,5,7,9,11]\n",
        "badlista = [2,4,'g',8,10]\n",
        "while True:\n",
        "  try:\n",
        "    x = input(\"\\nCALCULADORA DE Y9 \\ningrese nombre de la lista: \")\n",
        "    sum(locals()[x])\n",
        "    resultado_y9 =(sum(locals()[x]))/len(locals()[x])\n",
        "    print(\"Resultado: \", resultado_y9 )\n",
        "    break\n",
        "  except KeyError:\n",
        "    print(\"Por favor ingrese una lista existente\")\n",
        "  except TypeError:\n",
        "    print(\"La lista debe contener unicamente numeros\")"
      ],
      "metadata": {
        "colab": {
          "base_uri": "https://localhost:8080/"
        },
        "id": "mOOynzOunpxP",
        "outputId": "b2a9bdc5-4088-4ccd-e668-c74289ebc407"
      },
      "execution_count": 10,
      "outputs": [
        {
          "output_type": "stream",
          "name": "stdout",
          "text": [
            "\n",
            "CALCULADORA DE Y9 \n",
            "ingrese nombre de la lista: ae\n",
            "Por favor ingrese una lista existente\n",
            "\n",
            "CALCULADORA DE Y9 \n",
            "ingrese nombre de la lista: badlista\n",
            "La lista debe contener unicamente numeros\n",
            "\n",
            "CALCULADORA DE Y9 \n",
            "ingrese nombre de la lista: lista\n",
            "Resultado:  6.0\n"
          ]
        }
      ]
    },
    {
      "cell_type": "code",
      "source": [
        "#j\n",
        "while True:\n",
        "  try:\n",
        "    aux=0\n",
        "    x = input(\"\\nCALCULADORA DE Y10 \\ningrese nombre de la lista: \")\n",
        "    a = locals()[x]\n",
        "    mean = np.mean(locals()[x])\n",
        "    for i in a:\n",
        "      b = (i-mean)**2\n",
        "      aux = aux+b\n",
        "    resultado_y10 = (1/(len(a)-1))*aux\n",
        "    print(\"Resultado: \", resultado_y10 )\n",
        "    break\n",
        "  except KeyError:\n",
        "    print(\"Por favor ingrese una lista existente\")\n",
        "  except TypeError:\n",
        "    print(\"La lista debe contener unicamente numeros\")"
      ],
      "metadata": {
        "colab": {
          "base_uri": "https://localhost:8080/"
        },
        "id": "Mco_rcYNnts0",
        "outputId": "97450b96-4904-459c-db1c-a8e87d441912"
      },
      "execution_count": 11,
      "outputs": [
        {
          "output_type": "stream",
          "name": "stdout",
          "text": [
            "\n",
            "CALCULADORA DE Y10 \n",
            "ingrese nombre de la lista: aer\n",
            "Por favor ingrese una lista existente\n",
            "\n",
            "CALCULADORA DE Y10 \n",
            "ingrese nombre de la lista: badlista\n",
            "La lista debe contener unicamente numeros\n",
            "\n",
            "CALCULADORA DE Y10 \n",
            "ingrese nombre de la lista: lista\n",
            "Resultado:  14.0\n"
          ]
        }
      ]
    },
    {
      "cell_type": "code",
      "source": [
        "#k\n",
        "y11 = sqrt(resultado_y10)/resultado_y9\n",
        "y11"
      ],
      "metadata": {
        "id": "_OhoCjthnv3Z"
      },
      "execution_count": null,
      "outputs": []
    },
    {
      "cell_type": "markdown",
      "source": [
        "# Links de referencia para logaritmos en python\n",
        "\n",
        "1. https://www.w3schools.com/python/ref_math_log.asp\n",
        "2. https://miniwebtool.com/es/log-calculator/?n1=5&n2=e\n"
      ],
      "metadata": {
        "id": "lWGH_aXGXVcG"
      }
    },
    {
      "cell_type": "markdown",
      "source": [
        "#Problema 1.1\n",
        "Construya una función que returne la varianza de un conjunto de datos (n ≥ 2)\n",
        "cuando se va incorporando dato a dato. Use como primer par de datos los que se\n",
        "generan de la distribución normal con μ = 3 y s = 0,3. Use la misma semilla y los mismos parámetros de la distribución para incorporar cada dato. Haga el proceso 50 veces y luego grafique la varianza como función de n."
      ],
      "metadata": {
        "id": "4FluJX1TvU-G"
      }
    },
    {
      "cell_type": "code",
      "source": [
        "import random  \n",
        "import matplotlib.pyplot as plt  \n",
        "    \n",
        "nums = [50]  \n",
        "mu = 3\n",
        "sigma = 0.3\n",
        "    \n",
        "for i in range(50):  \n",
        "    temp = random.gauss(mu, sigma) \n",
        "    nums.append(temp)  \n",
        "        \n",
        "plt.plot(nums)  \n",
        "plt.show()\n",
        "\n",
        "plt.hist(nums, bins = 15)  \n",
        "plt.show() "
      ],
      "metadata": {
        "colab": {
          "base_uri": "https://localhost:8080/",
          "height": 513
        },
        "id": "UpIgej4j0tkg",
        "outputId": "bc2fe244-f115-4616-db27-75df5f0c93e5"
      },
      "execution_count": 36,
      "outputs": [
        {
          "output_type": "display_data",
          "data": {
            "text/plain": [
              "<Figure size 432x288 with 1 Axes>"
            ],
            "image/png": "[encoded data removed]"
          },
          "metadata": {
            "needs_background": "light"
          }
        },
        {
          "output_type": "display_data",
          "data": {
            "text/plain": [
              "<Figure size 432x288 with 1 Axes>"
            ],
            "image/png": "[encoded data removed]"
          },
          "metadata": {
            "needs_background": "light"
          }
        }
      ]
    },
    {
      "cell_type": "code",
      "source": [
        "import random\n",
        "import matplotlib.pyplot as plt\n",
        "%matplotlib inline\n",
        "\n",
        "campana=[random.gauss(3,0.3) for i in range(50)]\n",
        "plt.hist(campana, bins=15)\n",
        "plt.show() "
      ],
      "metadata": {
        "colab": {
          "base_uri": "https://localhost:8080/",
          "height": 265
        },
        "id": "1B-pBQm-1XO1",
        "outputId": "7488db96-60a7-4194-a142-b4983998d2a6"
      },
      "execution_count": 38,
      "outputs": [
        {
          "output_type": "display_data",
          "data": {
            "text/plain": [
              "<Figure size 432x288 with 1 Axes>"
            ],
            "image/png": "[encoded data removed]"
          },
          "metadata": {
            "needs_background": "light"
          }
        }
      ]
    },
    {
      "cell_type": "markdown",
      "source": [
        "# Fuente bibliografica\n",
        "\n",
        "\n",
        "\n",
        "1.   https://empresas.blogthinkbig.com/python-para-todos-5-formas-de-generar-datos-aleatorios/\n",
        "2.   https://es.acervolima.com/funcion-random-gauss-en-python/\n",
        "\n"
      ],
      "metadata": {
        "id": "YuLkmWUk220G"
      }
    },
    {
      "cell_type": "markdown",
      "source": [
        "#Python 1.1\n",
        "La cantidad de radiación absorbida puede medirse por la transmitancia. La relación entre transmitancia (T) y absorbancia (A) esta dada por la ley Beer-\n",
        "Lambert (ley de Beer). Cree una función para la expresión que aparece en\n",
        "\n",
        "https://www.electrical4u.com/what-is-transmittance/ y genere unos datos\n",
        "de T para determinar A. Grafique la función. Finalmente lea la sección titulada:\n",
        "✭✭Why is Absorbance the Preferred Unit Over Transmittance?✮✮"
      ],
      "metadata": {
        "id": "8kUCAijhvcc-"
      }
    },
    {
      "cell_type": "code",
      "source": [
        "from random import seed\n",
        "from random import random\n",
        "import numpy as np\n",
        "import matplotlib.pyplot as plt\n",
        "plt.close(\"all\")"
      ],
      "metadata": {
        "id": "rrnIf2jsvfC9"
      },
      "execution_count": 16,
      "outputs": []
    },
    {
      "cell_type": "code",
      "source": [
        "seed(1013671265)\n",
        "DATA = np.random.uniform(0, 1, 50)\n",
        "R100 = DATA*100\n",
        "print(R100)\n",
        "\n",
        "A = 2 - np.log10(R100)"
      ],
      "metadata": {
        "colab": {
          "base_uri": "https://localhost:8080/"
        },
        "id": "fWGnH1DMvh8y",
        "outputId": "c0397238-a21a-4536-b5db-b34986f3b6bc"
      },
      "execution_count": 19,
      "outputs": [
        {
          "output_type": "stream",
          "name": "stdout",
          "text": [
            "[78.03835764 58.07797569 88.78019851 96.13140898 94.86183619 53.68204786\n",
            " 40.13283857 89.73401103 74.08161827 23.01966726  8.1977852  99.04062502\n",
            " 94.18387314 47.8883873  39.83081696 70.72831561 41.62014456 86.05131024\n",
            " 27.43324194  0.47166828 89.51976623 26.38617389 53.15824498 17.29902306\n",
            "  1.49319225 92.1630989  12.19592601 40.0107856  65.91649954 34.93198851\n",
            " 86.41905707 49.16028404 67.17705154 75.41341979 41.99243282 27.70849312\n",
            " 93.08744652 77.26720136 10.45713768 89.12811807 10.73747681 79.59749687\n",
            " 63.01010812 71.29834925 48.14138507 50.06867377 92.92300581 30.81279337\n",
            " 17.52095019 48.85200226]\n"
          ]
        }
      ]
    },
    {
      "cell_type": "markdown",
      "source": [
        "## Grafica del ejercicio"
      ],
      "metadata": {
        "id": "Uw_nqEJovlXE"
      }
    },
    {
      "cell_type": "code",
      "source": [
        "plt.scatter(R100,A);\n",
        "plt.xlabel('Transmitancia(%)')\n",
        "plt.ylabel('Absorbancia')"
      ],
      "metadata": {
        "colab": {
          "base_uri": "https://localhost:8080/",
          "height": 296
        },
        "id": "PHLeV9l7vjk0",
        "outputId": "56e2b20d-4812-40d5-a8c4-e01a1ddc0e43"
      },
      "execution_count": 20,
      "outputs": [
        {
          "output_type": "execute_result",
          "data": {
            "text/plain": [
              "Text(0, 0.5, 'Absorbancia')"
            ]
          },
          "metadata": {},
          "execution_count": 20
        },
        {
          "output_type": "display_data",
          "data": {
            "text/plain": [
              "<Figure size 432x288 with 1 Axes>"
            ],
            "image/png": "[encoded data removed]"
          },
          "metadata": {
            "needs_background": "light"
          }
        }
      ]
    }
  ]
}